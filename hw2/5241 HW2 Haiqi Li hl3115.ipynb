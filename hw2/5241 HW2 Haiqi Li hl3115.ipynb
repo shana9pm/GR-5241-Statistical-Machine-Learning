{
 "cells": [
  {
   "cell_type": "markdown",
   "metadata": {},
   "source": [
    "#Problem 3"
   ]
  },
  {
   "cell_type": "code",
   "execution_count": 1,
   "metadata": {
    "collapsed": true
   },
   "outputs": [],
   "source": [
    "import numpy as np\n",
    "import pandas as pd\n",
    "from sklearn.discriminant_analysis import LinearDiscriminantAnalysis as LDA\n",
    "from sklearn.preprocessing import scale\n",
    "from sklearn.linear_model import LogisticRegression \n",
    "from sklearn.decomposition import IncrementalPCA"
   ]
  },
  {
   "cell_type": "code",
   "execution_count": 2,
   "metadata": {
    "collapsed": true
   },
   "outputs": [],
   "source": [
    "train3=pd.read_table(r'C:\\Users\\shanaxmiku\\Desktop\\files\\train_3.txt',sep=\",\",header=None)\n",
    "train5=pd.read_table(r'C:\\Users\\shanaxmiku\\Desktop\\files\\train_5.txt',sep=\",\",header=None)\n",
    "train8=pd.read_table(r'C:\\Users\\shanaxmiku\\Desktop\\files\\train_8.txt',sep=\",\",header=None)\n",
    "test_raw=pd.read_table(r'C:\\Users\\shanaxmiku\\Desktop\\files\\zip_test.txt',sep=\" \",header=None)\n",
    "n3=train3.shape[0]\n",
    "n5=train5.shape[0]\n",
    "n8=train8.shape[0]\n",
    "nwhole=n3+n5+n8\n",
    "_=np.array([\"3\",\"5\",\"8\"])\n",
    "label=np.repeat(_,[n3,n5,n8],axis=0)\n",
    "data=pd.concat([train3,train5,train8])\n",
    "data=np.matrix(data)\n",
    "\n",
    "#dealing with test data\n",
    "test_raw=np.matrix(test_raw)\n",
    "test_label_raw=test_raw[:,0]\n",
    "goodvalues=[3,5,8]\n",
    "draw=np.where(test_label_raw==goodvalues)\n",
    "test_data=test_raw[:,1:]\n",
    "test_label=test_label_raw[draw[0]]\n",
    "test_label=np.array(test_label.T)[0]\n",
    "test_label=test_label.astype('int').astype('str')\n",
    "test_data=test_data[draw[0],:]\n"
   ]
  },
  {
   "cell_type": "markdown",
   "metadata": {},
   "source": [
    "Get data an make a raw transformation.This also includes the part of searching 3,5 and 8 in test data."
   ]
  },
  {
   "cell_type": "markdown",
   "metadata": {},
   "source": [
    "##Question 1"
   ]
  },
  {
   "cell_type": "code",
   "execution_count": 3,
   "metadata": {},
   "outputs": [
    {
     "name": "stdout",
     "output_type": "stream",
     "text": [
      "Training data error: 0.015945\n",
      "Test data error: 0.087398\n"
     ]
    }
   ],
   "source": [
    "clf=LDA()\n",
    "clf.fit(data,label.ravel())\n",
    "\n",
    "train_predict=clf.predict(data)\n",
    "train_error=1-np.mean(train_predict==label)\n",
    "print(\"Training data error: %f\"%train_error)\n",
    "\n",
    "test_predict=clf.predict(test_data)\n",
    "test_error=1-np.mean(test_predict==test_label)\n",
    "print(\"Test data error: %f\"%test_error)"
   ]
  },
  {
   "cell_type": "markdown",
   "metadata": {},
   "source": [
    "##Question 2"
   ]
  },
  {
   "cell_type": "code",
   "execution_count": 4,
   "metadata": {},
   "outputs": [
    {
     "name": "stdout",
     "output_type": "stream",
     "text": [
      "Training data error after PCA: 0.042141\n",
      "Test data error after PCA: 0.087398\n"
     ]
    }
   ],
   "source": [
    "pca= IncrementalPCA(n_components=49)\n",
    "pca.fit(data,label)\n",
    "U=pca.transform(data)\n",
    "clf_lda=LDA()\n",
    "train_pca=U\n",
    "clf_lda.fit(train_pca,label.ravel())\n",
    "\n",
    "train_pca_predict=clf_lda.predict(train_pca)\n",
    "train_pca_error=1-np.mean(train_pca_predict==label)\n",
    "print(\"Training data error after PCA: %f\"%train_pca_error)\n",
    "\n",
    "U=pca.transform(test_data)\n",
    "test_pca=U\n",
    "test_pca_predict=clf_lda.predict(test_pca)\n",
    "test_pca_error=1-np.mean(test_pca_predict==test_label)\n",
    "print(\"Test data error after PCA: %f\"%test_pca_error)"
   ]
  },
  {
   "cell_type": "markdown",
   "metadata": {},
   "source": [
    "##Question 3"
   ]
  },
  {
   "cell_type": "code",
   "execution_count": 5,
   "metadata": {},
   "outputs": [
    {
     "name": "stdout",
     "output_type": "stream",
     "text": [
      "Training filted data error: 0.033599\n",
      "Test filted data error: 0.075203\n"
     ]
    }
   ],
   "source": [
    "temp1=np.kron(np.identity(8),np.array([0.5,0.5]).reshape(2,1))\n",
    "filter=np.kron(temp1,temp1)\n",
    "#kronecker product learned in deep learning CNN.\n",
    "\n",
    "data_filted=np.dot(data,filter)\n",
    "test_filted=np.dot(test_data,filter)\n",
    "clf_filt=LDA()\n",
    "clf_filt.fit(data_filted,label)\n",
    "train_filt_predict=clf_filt.predict(data_filted)\n",
    "train_filt_error=1-np.mean(train_filt_predict==label)\n",
    "print(\"Training filted data error: %f\"%train_filt_error)\n",
    "\n",
    "test_filt_predict=clf_filt.predict(test_filted)\n",
    "test_filt_error=1-np.mean(test_filt_predict==test_label)\n",
    "print(\"Test filted data error: %f\"%test_filt_error)"
   ]
  },
  {
   "cell_type": "code",
   "execution_count": 6,
   "metadata": {
    "scrolled": true
   },
   "outputs": [
    {
     "name": "stdout",
     "output_type": "stream",
     "text": [
      "Training filted data error under multinomial: 0.021640\n",
      "Test filted data error under nultinomial: 0.085366\n"
     ]
    }
   ],
   "source": [
    "clf_multinominal=LogisticRegression(multi_class='multinomial',solver='lbfgs')\n",
    "clf_multinominal.fit(data_filted,label)\n",
    "train_mul_predict=clf_multinominal.predict(data_filted)\n",
    "train_mul_error=1-np.mean(train_mul_predict==label)\n",
    "print(\"Training filted data error under multinomial: %f\"%train_mul_error)\n",
    "test_mul_predict=clf_multinominal.predict(test_filted)\n",
    "test_mul_error=1-np.mean(test_mul_predict==test_label)\n",
    "print(\"Test filted data error under nultinomial: %f\"%test_mul_error)"
   ]
  },
  {
   "cell_type": "markdown",
   "metadata": {},
   "source": [
    "##Summary\n",
    "\n",
    "Training data error: 0.015945\n",
    "\n",
    "Test data error: 0.087398\n",
    "\n",
    "Training data error after PCA: 0.042141\n",
    "\n",
    "Test data error after PCA: 0.087398\n",
    "\n",
    "Training filted data error: 0.033599\n",
    "\n",
    "Test filted data error: 0.075203\n",
    "\n",
    "Training filted data error under multinomial: 0.021640\n",
    "\n",
    "Test filted data error under nultinomial: 0.085366\n",
    "\n",
    "As we can see,the raw LDA method has lowest training error which is reasonable since we are training on raw full data.\n",
    "\n",
    "PCA lower the dimension and the actual information we use is decreased.But the performance after PCA is fairly good since the error rate of test data does not change too much.\n",
    "\n",
    "Filted data is also a way to compress data.But this filter works since the test error is becoming lower.Actually, I know that this kind of filter is often a good way in dealing picture and vision issues.\n",
    "\n",
    "Multinominal logistic regression (I learned as softmax method) performs good.The test error becoming lower compared with LDA method.\n"
   ]
  }
 ],
 "metadata": {
  "kernelspec": {
   "display_name": "Python 3",
   "language": "python",
   "name": "python3"
  },
  "language_info": {
   "codemirror_mode": {
    "name": "ipython",
    "version": 3
   },
   "file_extension": ".py",
   "mimetype": "text/x-python",
   "name": "python",
   "nbconvert_exporter": "python",
   "pygments_lexer": "ipython3",
   "version": "3.6.3"
  }
 },
 "nbformat": 4,
 "nbformat_minor": 2
}
