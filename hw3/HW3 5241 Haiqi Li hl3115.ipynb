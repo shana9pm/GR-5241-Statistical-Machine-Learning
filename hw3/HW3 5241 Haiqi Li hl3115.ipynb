{
 "cells": [
  {
   "cell_type": "code",
   "execution_count": 1,
   "metadata": {
    "collapsed": true
   },
   "outputs": [],
   "source": [
    "%config IPCompleter.greedy=True\n",
    "%config IPCompleter.debug=True\n",
    "%matplotlib inline\n",
    "import pandas as pd\n",
    "import numpy as np\n",
    "from sklearn import svm\n",
    "import math\n",
    "from sklearn.model_selection import train_test_split\n",
    "from sklearn.model_selection import cross_val_score\n",
    "import matplotlib.pyplot as plt\n",
    "from tqdm import tqdm,tqdm_notebook as tqdm\n"
   ]
  },
  {
   "cell_type": "code",
   "execution_count": 2,
   "metadata": {
    "collapsed": true
   },
   "outputs": [],
   "source": [
    "data5=pd.read_table(r'.\\train.5.txt',sep=',',header=None)\n",
    "data6=pd.read_table(r'.\\train.6.txt',sep=',',header=None)\n",
    "n5=data5.shape[0]\n",
    "n6=data6.shape[0]\n",
    "nwhole=n5+n6\n",
    "_=np.array([\"5\",\"6\"])\n",
    "label=np.repeat(_,[n5,n6],axis=0)\n",
    "data=pd.concat([data5,data6])\n",
    "data_train,data_test,label_train,label_test=train_test_split(data,label,test_size=0.2,random_state=0)\n",
    "#Load Data and divide into train set and test set."
   ]
  },
  {
   "cell_type": "markdown",
   "metadata": {},
   "source": [
    "# 1."
   ]
  },
  {
   "cell_type": "markdown",
   "metadata": {},
   "source": [
    "## (a)"
   ]
  },
  {
   "cell_type": "code",
   "execution_count": 3,
   "metadata": {},
   "outputs": [
    {
     "name": "stdout",
     "output_type": "stream",
     "text": [
      "The best ln(C) is around:-4.000000\n"
     ]
    },
    {
     "data": {
      "image/png": "[encoded data removed]",
      "text/plain": [
       "<matplotlib.figure.Figure at 0x273192e4c50>"
      ]
     },
     "metadata": {},
     "output_type": "display_data"
    }
   ],
   "source": [
    "C=[math.exp(x / 2.0) for x in range(-10, 40)]\n",
    "C_len=len(C)\n",
    "linear_kernal_accuracy=[]\n",
    "for i in range(C_len):\n",
    "    linear=svm.SVC(kernel='linear',C=C[i])\n",
    "    scores=cross_val_score(linear,data_train,label_train,cv=5)\n",
    "    score=np.mean(scores)\n",
    "    linear_kernal_accuracy.append(score)\n",
    "#record different c in linear kernal model    \n",
    "iter=np.arange(C_len)\n",
    "plt.plot((iter-10)/2,linear_kernal_accuracy)\n",
    "plt.xlabel(\"ln(C)\")\n",
    "plt.ylabel(\"Accuracy\")\n",
    "plt.title(\"Linear kernal Cross Validation Accuracy\")\n",
    "print(\"The best ln(C) is around:%f\"%((np.argmax(linear_kernal_accuracy)-10)/2))"
   ]
  },
  {
   "cell_type": "markdown",
   "metadata": {},
   "source": [
    "## (b)"
   ]
  },
  {
   "cell_type": "code",
   "execution_count": 4,
   "metadata": {},
   "outputs": [
    {
     "data": {
      "application/vnd.jupyter.widget-view+json": {
       "model_id": "ea5f04df66f24b0dbc71742bacb2c4b6",
       "version_major": 2,
       "version_minor": 0
      },
      "text/plain": [
       "A Jupyter Widget"
      ]
     },
     "metadata": {},
     "output_type": "display_data"
    }
   ],
   "source": [
    "C=[math.exp(x / 2.0) for x in range(-10,9)]\n",
    "C_len=len(C)\n",
    "gamma=[math.exp(x) for x in range(-15, 4)]\n",
    "gamma_len=len(gamma)\n",
    "rbf_kernal_accuracy=np.zeros((C_len,gamma_len))\n",
    "pbar=tqdm(total=C_len*gamma_len)\n",
    "for i in range(C_len):\n",
    "    for j in range(gamma_len):\n",
    "        pbar.update(1)\n",
    "        rbf=svm.SVC(kernel='rbf',C=C[i],gamma=gamma[j])#use previous C\n",
    "        scores=cross_val_score(rbf,data_train,label_train,cv=5)\n",
    "        score=np.mean(scores)\n",
    "        rbf_kernal_accuracy[i][j]=score\n",
    "# the exception can be neglected\n"
   ]
  },
  {
   "cell_type": "code",
   "execution_count": 5,
   "metadata": {},
   "outputs": [
    {
     "name": "stdout",
     "output_type": "stream",
     "text": [
      "Best solution of ln(gamma) and ln(C) are:\n",
      "(-4, 0.5)\n"
     ]
    },
    {
     "data": {
      "image/png": "[encoded data removed]",
      "text/plain": [
       "<matplotlib.figure.Figure at 0x27325ad6828>"
      ]
     },
     "metadata": {},
     "output_type": "display_data"
    }
   ],
   "source": [
    "plt.imshow(rbf_kernal_accuracy,cmap=\"hot\",interpolation='nearest')\n",
    "plt.colorbar()\n",
    "plt.xlabel(\"ln(gamma)\")\n",
    "plt.ylabel(\"ln(C)\")\n",
    "plt.xticks(np.arange(gamma_len),np.log(gamma), rotation=45)\n",
    "_=plt.yticks(np.arange(C_len), np.log(C))\n",
    "inx=np.unravel_index(rbf_kernal_accuracy.argmax(),rbf_kernal_accuracy.shape)\n",
    "solution_gamma,solution_C=inx\n",
    "solution_C=(solution_C-10)/2\n",
    "solution_gamma=solution_gamma-15\n",
    "print(\"Best solution of ln(gamma) and ln(C) are:\")\n",
    "print((solution_gamma,solution_C))"
   ]
  },
  {
   "cell_type": "markdown",
   "metadata": {},
   "source": [
    "# 2"
   ]
  },
  {
   "cell_type": "code",
   "execution_count": 6,
   "metadata": {},
   "outputs": [
    {
     "name": "stdout",
     "output_type": "stream",
     "text": [
      "Misclassification rate of linear kernel 0.012295\n",
      "Misclassification rate of rbf kernel 0.004098\n"
     ]
    }
   ],
   "source": [
    "linear_SVM=svm.SVC(kernel='linear',C=math.exp(-4))\n",
    "linear_SVM.fit(data_train,label_train)\n",
    "linear_predict=linear_SVM.predict(data_test)\n",
    "print(\"Misclassification rate of linear kernel %f\"%(1-np.mean(linear_predict==label_test)))\n",
    "\n",
    "rbf_SVM=svm.SVC(kernel='rbf',C=math.exp(0.5),gamma=math.exp(-4))\n",
    "rbf_SVM.fit(data_train,label_train)\n",
    "rbf_predict=rbf_SVM.predict(data_test)\n",
    "print(\"Misclassification rate of rbf kernel %f\"%(1-np.mean(rbf_predict==label_test)))"
   ]
  },
  {
   "cell_type": "markdown",
   "metadata": {},
   "source": [
    "Aparently,the non-linear SVM performs better than linear SVM in this case.We should try non-linear kernel SVM."
   ]
  }
 ],
 "metadata": {
  "kernelspec": {
   "display_name": "Python 3",
   "language": "python",
   "name": "python3"
  },
  "language_info": {
   "codemirror_mode": {
    "name": "ipython",
    "version": 3
   },
   "file_extension": ".py",
   "mimetype": "text/x-python",
   "name": "python",
   "nbconvert_exporter": "python",
   "pygments_lexer": "ipython3",
   "version": "3.6.3"
  }
 },
 "nbformat": 4,
 "nbformat_minor": 2
}
